{
 "cells": [
  {
   "cell_type": "code",
   "execution_count": 1,
   "id": "4bfa93aa",
   "metadata": {},
   "outputs": [],
   "source": [
    "import sys\n",
    "import os\n",
    "sys.path.append(\"mceliece-sage-20221023\")\n",
    "\n",
    "import numpy as np\n",
    "\n",
    "from parameters import parameters\n",
    "from byterepr import from_privatekey, from_ciphertext, from_sessionkey, from_publickey, from_vector, from_fieldelement\n",
    "from byterepr import to_privatekey, to_ciphertext, to_sessionkey, to_publickey, to_vector, to_fieldelement\n",
    "from byterepr import from_fieldelement\n",
    "from decap import decap_abstract\n",
    "from keygen import keygen_abstract\n",
    "\n",
    "params = parameters(\"mceliece51220\", allowtestparams=True)"
   ]
  },
  {
   "cell_type": "code",
   "execution_count": 2,
   "id": "debe6874",
   "metadata": {},
   "outputs": [
    {
     "data": {
      "text/plain": [
       "(9, 512, 20, z^9 + z + 1, z^20 + z^3 + 1)"
      ]
     },
     "execution_count": 2,
     "metadata": {},
     "output_type": "execute_result"
    }
   ],
   "source": [
    "params.m, params.n, params.t, params.f, params.F"
   ]
  },
  {
   "cell_type": "code",
   "execution_count": 4,
   "id": "67e6bcde",
   "metadata": {},
   "outputs": [],
   "source": [
    "import sys\n",
    "import os\n",
    "sys.path.append(\"mceliece-sage-20221023\")\n",
    "\n",
    "import numpy as np\n",
    "\n",
    "from parameters import parameters\n",
    "from byterepr import from_privatekey, from_ciphertext, from_sessionkey, from_publickey, from_vector, from_fieldelement\n",
    "from byterepr import to_privatekey, to_ciphertext, to_sessionkey, to_publickey, to_vector, to_fieldelement\n",
    "from byterepr import from_fieldelement\n",
    "from decap import decap_abstract\n",
    "from keygen import keygen_abstract\n",
    "\n",
    "import json\n",
    "import struct\n",
    "\n",
    "params = parameters(\"mceliece8192128\", allowtestparams=True)"
   ]
  },
  {
   "cell_type": "code",
   "execution_count": 5,
   "id": "e8516e9e",
   "metadata": {},
   "outputs": [],
   "source": [
    "with open(\"results/victim-00.json\") as file:\n",
    "    data = json.load(file)\n",
    "    columns = data[\"columns\"]\n",
    "    \n",
    "    alphas = []\n",
    "    betas = []\n",
    "    \n",
    "    for col in columns:\n",
    "        alpha = struct.pack(\"<H\", col[\"alpha\"])\n",
    "        beta = struct.pack(\"<H\", col[\"g_of_alpha\"])\n",
    "        \n",
    "        alpha = to_fieldelement(alpha,params)\n",
    "        beta = to_fieldelement(beta,params)\n",
    "        \n",
    "        alphas.append( alpha )\n",
    "        betas.append( beta )\n",
    "    \n",
    "    #Compute Goppa polynomial\n",
    "    R.<x> = params.Fq[]\n",
    "    g = 0\n",
    "    for i in range(len(alphas)):\n",
    "        g_i = 1\n",
    "        for j in range(len(alphas)):\n",
    "            if i != j:\n",
    "                g_i *= (x - alphas[j]) / (alphas[i] - alphas[j])\n",
    "\n",
    "        g += betas[i] * g_i"
   ]
  },
  {
   "cell_type": "code",
   "execution_count": 6,
   "id": "17915569",
   "metadata": {},
   "outputs": [
    {
     "name": "stdout",
     "output_type": "stream",
     "text": [
      "done\n"
     ]
    }
   ],
   "source": [
    "from multiprocessing import Pool\n",
    "\n",
    "def makeColumn(a):\n",
    "    H_j = [0] * (params.t*params.m)\n",
    "    \n",
    "    a_int = a.integer_representation()\n",
    "    a_bits = [(a_int >> i) & 1 for i in range(params.m)]\n",
    "    for i in range(params.t):\n",
    "        val = (a^i/g(a)).integer_representation()\n",
    "        \n",
    "        for b in range(params.m):\n",
    "            H_j[i*params.m + b] = (val >> b) & 1\n",
    "    \n",
    "    return H_j\n",
    "\n",
    "table = {}\n",
    "\n",
    "H = []\n",
    "\n",
    "inputs = [a for a in params.Fq]\n",
    "with Pool() as p:\n",
    "    results = p.map(makeColumn, inputs)\n",
    "    \n",
    "    for result in results:\n",
    "        H.append( result )\n",
    "        \n",
    "        \n",
    "H = matrix(H).transpose()\n",
    "\n",
    "print(\"done\")"
   ]
  },
  {
   "cell_type": "code",
   "execution_count": 10,
   "id": "a1ab8181",
   "metadata": {},
   "outputs": [
    {
     "name": "stdout",
     "output_type": "stream",
     "text": [
      "done 10 0.04557609558105469\n",
      "\n",
      "done 20 0.03813910484313965\n",
      "\n",
      "done 30 0.1414949893951416\n",
      "\n",
      "done 40 0.3316020965576172\n",
      "\n",
      "done 50 0.8758656978607178\n",
      "\n",
      "done 60 4.317361354827881\n",
      "\n",
      "done 100 12.82343053817749\n",
      "\n",
      "done 120 18.044541358947754\n",
      "\n",
      "done 140 21.89983057975769\n",
      "\n"
     ]
    },
    {
     "ename": "KeyboardInterrupt",
     "evalue": "",
     "output_type": "error",
     "traceback": [
      "\u001b[0;31m---------------------------------------------------------------------------\u001b[0m",
      "\u001b[0;31mKeyboardInterrupt\u001b[0m                         Traceback (most recent call last)",
      "\u001b[0;32m/tmp/ipykernel_914612/4061776433.py\u001b[0m in \u001b[0;36m<module>\u001b[0;34m\u001b[0m\n\u001b[1;32m      4\u001b[0m \u001b[0;32mfor\u001b[0m \u001b[0mh\u001b[0m \u001b[0;32min\u001b[0m \u001b[0mheights\u001b[0m\u001b[0;34m:\u001b[0m\u001b[0;34m\u001b[0m\u001b[0;34m\u001b[0m\u001b[0m\n\u001b[1;32m      5\u001b[0m     \u001b[0mstart\u001b[0m \u001b[0;34m=\u001b[0m \u001b[0mtime\u001b[0m\u001b[0;34m.\u001b[0m\u001b[0mtime\u001b[0m\u001b[0;34m(\u001b[0m\u001b[0;34m)\u001b[0m\u001b[0;34m\u001b[0m\u001b[0;34m\u001b[0m\u001b[0m\n\u001b[0;32m----> 6\u001b[0;31m     \u001b[0mH_systematic_form\u001b[0m \u001b[0;34m=\u001b[0m \u001b[0mH\u001b[0m\u001b[0;34m[\u001b[0m\u001b[0mInteger\u001b[0m\u001b[0;34m(\u001b[0m\u001b[0;36m0\u001b[0m\u001b[0;34m)\u001b[0m\u001b[0;34m:\u001b[0m\u001b[0mh\u001b[0m\u001b[0;34m]\u001b[0m\u001b[0;34m.\u001b[0m\u001b[0mechelon_form\u001b[0m\u001b[0;34m(\u001b[0m\u001b[0;34m)\u001b[0m\u001b[0;34m\u001b[0m\u001b[0;34m\u001b[0m\u001b[0m\n\u001b[0m\u001b[1;32m      7\u001b[0m     \u001b[0mprint\u001b[0m\u001b[0;34m(\u001b[0m\u001b[0;34m\"done\"\u001b[0m\u001b[0;34m,\u001b[0m \u001b[0mh\u001b[0m\u001b[0;34m,\u001b[0m \u001b[0mtime\u001b[0m\u001b[0;34m.\u001b[0m\u001b[0mtime\u001b[0m\u001b[0;34m(\u001b[0m\u001b[0;34m)\u001b[0m \u001b[0;34m-\u001b[0m \u001b[0mstart\u001b[0m\u001b[0;34m,\u001b[0m \u001b[0mflush\u001b[0m\u001b[0;34m=\u001b[0m\u001b[0;32mTrue\u001b[0m\u001b[0;34m)\u001b[0m\u001b[0;34m\u001b[0m\u001b[0;34m\u001b[0m\u001b[0m\n\u001b[1;32m      8\u001b[0m     \u001b[0mprint\u001b[0m\u001b[0;34m(\u001b[0m\u001b[0;34m\"\"\u001b[0m\u001b[0;34m,\u001b[0m\u001b[0mflush\u001b[0m\u001b[0;34m=\u001b[0m\u001b[0;32mTrue\u001b[0m\u001b[0;34m)\u001b[0m\u001b[0;34m\u001b[0m\u001b[0;34m\u001b[0m\u001b[0m\n",
      "\u001b[0;32m/usr/lib/python3/dist-packages/sage/matrix/matrix_integer_dense.pyx\u001b[0m in \u001b[0;36msage.matrix.matrix_integer_dense.Matrix_integer_dense.echelon_form (build/cythonized/sage/matrix/matrix_integer_dense.cpp:17680)\u001b[0;34m()\u001b[0m\n\u001b[1;32m   2041\u001b[0m                 \u001b[0msig_off\u001b[0m\u001b[0;34m(\u001b[0m\u001b[0;34m)\u001b[0m\u001b[0;34m\u001b[0m\u001b[0;34m\u001b[0m\u001b[0m\n\u001b[1;32m   2042\u001b[0m             \u001b[0;32melse\u001b[0m\u001b[0;34m:\u001b[0m\u001b[0;34m\u001b[0m\u001b[0;34m\u001b[0m\u001b[0m\n\u001b[0;32m-> 2043\u001b[0;31m                 \u001b[0msig_on\u001b[0m\u001b[0;34m(\u001b[0m\u001b[0;34m)\u001b[0m\u001b[0;34m\u001b[0m\u001b[0;34m\u001b[0m\u001b[0m\n\u001b[0m\u001b[1;32m   2044\u001b[0m                 \u001b[0mfmpz_mat_hnf\u001b[0m\u001b[0;34m(\u001b[0m\u001b[0mH_m\u001b[0m\u001b[0;34m.\u001b[0m\u001b[0m_matrix\u001b[0m\u001b[0;34m,\u001b[0m \u001b[0mself\u001b[0m\u001b[0;34m.\u001b[0m\u001b[0m_matrix\u001b[0m\u001b[0;34m)\u001b[0m\u001b[0;34m\u001b[0m\u001b[0;34m\u001b[0m\u001b[0m\n\u001b[1;32m   2045\u001b[0m                 \u001b[0msig_off\u001b[0m\u001b[0;34m(\u001b[0m\u001b[0;34m)\u001b[0m\u001b[0;34m\u001b[0m\u001b[0;34m\u001b[0m\u001b[0m\n",
      "\u001b[0;31mKeyboardInterrupt\u001b[0m: "
     ]
    }
   ],
   "source": [
    "H_systematic_form = H.echelon_form()\n",
    "\n",
    "save(H_systematic_form, \"results/victim-00-systematic-form.sobj\")"
   ]
  },
  {
   "cell_type": "code",
   "execution_count": 11,
   "id": "9bcd2222",
   "metadata": {},
   "outputs": [],
   "source": [
    "save(H, 'test_save.sobj')"
   ]
  },
  {
   "cell_type": "code",
   "execution_count": null,
   "id": "352e4ce0",
   "metadata": {},
   "outputs": [],
   "source": []
  }
 ],
 "metadata": {
  "kernelspec": {
   "display_name": "SageMath 9.5",
   "language": "sage",
   "name": "sagemath"
  },
  "language_info": {
   "codemirror_mode": {
    "name": "ipython",
    "version": 3
   },
   "file_extension": ".py",
   "mimetype": "text/x-python",
   "name": "python",
   "nbconvert_exporter": "python",
   "pygments_lexer": "ipython3",
   "version": "3.10.12"
  }
 },
 "nbformat": 4,
 "nbformat_minor": 5
}
